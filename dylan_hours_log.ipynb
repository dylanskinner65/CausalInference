{
 "cells": [
  {
   "cell_type": "code",
   "execution_count": 1,
   "metadata": {},
   "outputs": [
    {
     "name": "stdout",
     "output_type": "stream",
     "text": [
      "Intel MKL WARNING: Support of Intel(R) Streaming SIMD Extensions 4.2 (Intel(R) SSE4.2) enabled only processors has been deprecated. Intel oneAPI Math Kernel Library 2025.0 will require Intel(R) Advanced Vector Extensions (Intel(R) AVX) instructions.\n",
      "Intel MKL WARNING: Support of Intel(R) Streaming SIMD Extensions 4.2 (Intel(R) SSE4.2) enabled only processors has been deprecated. Intel oneAPI Math Kernel Library 2025.0 will require Intel(R) Advanced Vector Extensions (Intel(R) AVX) instructions.\n"
     ]
    }
   ],
   "source": [
    "import pandas as pd"
   ]
  },
  {
   "cell_type": "markdown",
   "metadata": {},
   "source": [
    "<h1>Code to track my hours</h1>"
   ]
  },
  {
   "cell_type": "code",
   "execution_count": 3,
   "metadata": {},
   "outputs": [
    {
     "data": {
      "text/html": [
       "<div>\n",
       "<style scoped>\n",
       "    .dataframe tbody tr th:only-of-type {\n",
       "        vertical-align: middle;\n",
       "    }\n",
       "\n",
       "    .dataframe tbody tr th {\n",
       "        vertical-align: top;\n",
       "    }\n",
       "\n",
       "    .dataframe thead th {\n",
       "        text-align: right;\n",
       "    }\n",
       "</style>\n",
       "<table border=\"1\" class=\"dataframe\">\n",
       "  <thead>\n",
       "    <tr style=\"text-align: right;\">\n",
       "      <th></th>\n",
       "      <th>Date</th>\n",
       "      <th>Description of Work</th>\n",
       "      <th>Hours</th>\n",
       "      <th>Total Hours</th>\n",
       "    </tr>\n",
       "  </thead>\n",
       "  <tbody>\n",
       "    <tr>\n",
       "      <th>0</th>\n",
       "      <td>2024-04-01</td>\n",
       "      <td>Watched introductory videos into Causal infere...</td>\n",
       "      <td>1.5</td>\n",
       "      <td>1.5</td>\n",
       "    </tr>\n",
       "  </tbody>\n",
       "</table>\n",
       "</div>"
      ],
      "text/plain": [
       "         Date                                Description of Work  Hours  \\\n",
       "0  2024-04-01  Watched introductory videos into Causal infere...    1.5   \n",
       "\n",
       "   Total Hours  \n",
       "0          1.5  "
      ]
     },
     "execution_count": 3,
     "metadata": {},
     "output_type": "execute_result"
    }
   ],
   "source": [
    "# Create the dataframe\n",
    "df = pd.DataFrame({'Date': ['2024-04-01'], \n",
    "                   'Description of Work': ['Watched introductory videos into Causal inference, gathered resources (check README.md), and watched \\\n",
    "                                           a tutorial on Pytorch Geometric (see README.md).'],\n",
    "                   'Hours': [1.5],\n",
    "                   'Total Hours': [1.5]})\n",
    "df"
   ]
  },
  {
   "cell_type": "code",
   "execution_count": 3,
   "metadata": {},
   "outputs": [],
   "source": [
    "# Function to add event to the dataframe\n",
    "def add_event(date, description, hours):\n",
    "    # Read in the datafrmae\n",
    "    df = pd.read_csv('dylan_hours_log.csv')\n",
    "    \n",
    "    # Add the event to the dataframe\n",
    "    df = pd.concat([df, pd.DataFrame({'Date': [date], 'Description of Work': [description], 'Hours': [hours], 'Total Hours': [df['Hours'].cumsum().values[-1] + hours]})])\n",
    "    return df\n",
    "\n",
    "date = input('Enter the date (YYYY-MM-DD): ')\n",
    "description = input('Enter the description of work: ')\n",
    "hours = float(input('Enter the number of hours worked: '))\n",
    "df = add_event(date, description, hours)\n",
    "df.to_csv('dylan_hours_log.csv', index=False)"
   ]
  }
 ],
 "metadata": {
  "kernelspec": {
   "display_name": "acme1",
   "language": "python",
   "name": "python3"
  },
  "language_info": {
   "codemirror_mode": {
    "name": "ipython",
    "version": 3
   },
   "file_extension": ".py",
   "mimetype": "text/x-python",
   "name": "python",
   "nbconvert_exporter": "python",
   "pygments_lexer": "ipython3",
   "version": "3.11.8"
  }
 },
 "nbformat": 4,
 "nbformat_minor": 2
}
